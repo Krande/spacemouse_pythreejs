{
 "cells": [
  {
   "cell_type": "code",
   "execution_count": 1,
   "metadata": {},
   "outputs": [],
   "source": [
    "import ipywidgets"
   ]
  },
  {
   "cell_type": "markdown",
   "metadata": {},
   "source": [
    "# Attempt 1\n",
    "\n",
    "Based on docs https://ipywidgets.readthedocs.io/en/latest/examples/Widget%20List.html#Controller"
   ]
  },
  {
   "cell_type": "code",
   "execution_count": 2,
   "metadata": {},
   "outputs": [
    {
     "data": {
      "application/vnd.jupyter.widget-view+json": {
       "model_id": "48b13ff4e7334ad3a15e2d21c1914db6",
       "version_major": 2,
       "version_minor": 0
      },
      "text/plain": [
       "Controller()"
      ]
     },
     "metadata": {},
     "output_type": "display_data"
    }
   ],
   "source": [
    "ipywidgets.Controller(\n",
    "    index=0,\n",
    ")"
   ]
  },
  {
   "cell_type": "markdown",
   "source": [
    "The above example did not work using spacemouse. However, it was tested with a ps4 controller which worked just fine. It could be the gamepad"
   ],
   "metadata": {
    "collapsed": false
   }
  },
  {
   "cell_type": "markdown",
   "metadata": {},
   "source": [
    "gamepad = ipywidgets.Controller()\n",
    "def init_gamepad(data):\n",
    "    if len(data[\"owner\"].buttons) != 0:\n",
    "        data[\"owner\"].buttons[0].observe(lambda data: self.robot.device[\"gripper\"].open())\n",
    "        data[\"owner\"].buttons[1].observe(lambda data: self.robot.device[\"gripper\"].close())\n",
    "        data[\"owner\"].axes[1].observe(lambda data: self.robot.move(-data[\"new\"], 0), 'value')\n",
    "        data[\"owner\"].axes[0].observe(lambda data: self.robot.move(0, -data[\"new\"]), 'value')\n",
    "gamepad.observe(init_gamepad)"
   ]
  },
  {
   "cell_type": "code",
   "execution_count": 2,
   "metadata": {},
   "outputs": [],
   "source": [
    "gamepad = ipywidgets.Controller()\n",
    "def init_gamepad(data):\n",
    "    if len(data[\"owner\"].buttons) != 0:\n",
    "        data[\"owner\"].buttons[0].observe(lambda data: self.robot.device[\"gripper\"].open())\n",
    "        data[\"owner\"].buttons[1].observe(lambda data: self.robot.device[\"gripper\"].close())\n",
    "        data[\"owner\"].axes[1].observe(lambda data: self.robot.move(-data[\"new\"], 0), 'value')\n",
    "        data[\"owner\"].axes[0].observe(lambda data: self.robot.move(0, -data[\"new\"]), 'value')\n",
    "gamepad.observe(init_gamepad)"
   ]
  },
  {
   "cell_type": "code",
   "execution_count": 3,
   "metadata": {},
   "outputs": [
    {
     "data": {
      "application/vnd.jupyter.widget-view+json": {
       "model_id": "67b5b4ce0f8e48eabb2d657ca7158ce9",
       "version_major": 2,
       "version_minor": 0
      },
      "text/plain": [
       "Controller()"
      ]
     },
     "metadata": {},
     "output_type": "display_data"
    }
   ],
   "source": [
    "gamepad"
   ]
  },
  {
   "cell_type": "code",
   "execution_count": 5,
   "metadata": {},
   "outputs": [
    {
     "data": {
      "application/vnd.jupyter.widget-view+json": {
       "model_id": "b7a67ec1f3ce4d91ab11a4d3673a8fcb",
       "version_major": 2,
       "version_minor": 0
      },
      "text/plain": [
       "Controller()"
      ]
     },
     "metadata": {},
     "output_type": "display_data"
    }
   ],
   "source": [
    "pad = ipywidgets.Controller()\n",
    "pad.links = []\n",
    "\n",
    "def setup():\n",
    "    if pad.connected:\n",
    "        pad.links.append(dlink((pad.axes[1], 'value'), (fly_controls, 'pitch'), affine(0.0, factor)))\n",
    "        pad.links.append(dlink((pad.axes[0], 'value'), (fly_controls, 'roll'), affine(0.0, -factor)))\n",
    "        pad.links.append(dlink((pad.axes[3], 'value'), (fly_controls, 'forward_speed'), affine(0.0, 2 * factor)))\n",
    "        pad.links.append(dlink((pad.axes[2], 'value'), (fly_controls, 'yaw'), affine(0.0, factor)))\n",
    "        pad.links.append(dlink((pad.buttons[5], 'value'), (surf, 'scale'), lambda x: (10, 10, 1 - x)))\n",
    "    if not pad.connected:\n",
    "        for l in pad.links:\n",
    "            l.unlink()\n",
    "        pad.links = []\n",
    "\n",
    "pad.observe(setup, names=['connected'])\n",
    "setup()\n",
    "pad"
   ]
  }
 ],
 "metadata": {
  "kernelspec": {
   "display_name": "Python 3",
   "language": "python",
   "name": "python3"
  },
  "language_info": {
   "codemirror_mode": {
    "name": "ipython",
    "version": 3
   },
   "file_extension": ".py",
   "mimetype": "text/x-python",
   "name": "python",
   "nbconvert_exporter": "python",
   "pygments_lexer": "ipython3",
   "version": "3.7.4"
  },
  "pycharm": {
   "stem_cell": {
    "cell_type": "raw",
    "source": [],
    "metadata": {
     "collapsed": false
    }
   }
  }
 },
 "nbformat": 4,
 "nbformat_minor": 2
}